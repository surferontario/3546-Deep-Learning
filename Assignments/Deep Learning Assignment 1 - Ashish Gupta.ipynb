{
 "cells": [
  {
   "cell_type": "markdown",
   "metadata": {
    "_uuid": "3bf66182e4e6573d2bf54ffb99869a9ae11fdc9d"
   },
   "source": [
    "Assignment 1 - Deep Learning using Keras\n",
    "\n",
    "SCS_3546_002 Deep Learning, University of Toronto\n",
    "\n",
    "Developed by Ashish Gupta"
   ]
  },
  {
   "cell_type": "code",
   "execution_count": 1,
   "metadata": {
    "_cell_guid": "b1076dfc-b9ad-4769-8c92-a6c4dae69d19",
    "_uuid": "8f2839f25d086af736a60e9eeb907d3b93b6e0e5"
   },
   "outputs": [],
   "source": [
    "import numpy as np # linear algebra\n",
    "import pandas as pd # data processing, CSV file I/O (e.g. pd.read_csv)\n",
    "import tensorflow as tf\n",
    "from tensorflow.keras import layers"
   ]
  },
  {
   "cell_type": "markdown",
   "metadata": {
    "_cell_guid": "79c7e3d0-c299-4dcb-8224-4455121ee9b0",
    "_uuid": "d629ff2d2480ee46fbb7e2d37f6b5fab8052498a",
    "collapsed": true
   },
   "source": [
    "**Create a sequential model with four layers (all Dense):**\n",
    "\n",
    "<li>The first layer should have 64 units and input_shape (10, ) and use relu </li>\n",
    "<li>The next layer should have 32 units and use a sigmoid activation</li>\n",
    "<li>The next layer should have 5 units and use relu with an L2 kernel regularization factor of 0.01</li>\n",
    "<li>The output layer should produce three outputs using softmax</li>"
   ]
  },
  {
   "cell_type": "code",
   "execution_count": 2,
   "metadata": {
    "_uuid": "9a90e1ae8a7076f574c62306a2f9a4fc91612ebb"
   },
   "outputs": [],
   "source": [
    "sequential_model = tf.keras.Sequential()\n",
    "\n",
    "# Add an input layer should have 64 units and shape (10, ) and use relu\n",
    "sequential_model.add(layers.Dense(64, activation='relu',input_shape=(10,)))\n",
    "\n",
    "#The first hidden layer should have 32 units and use a sigmoid activation\n",
    "sequential_model.add(layers.Dense(32, activation=tf.sigmoid))\n",
    "\n",
    "#The second hidden layer should have 5 units and use relu with an L2 kernel regularization factor of 0.01\n",
    "sequential_model.add(layers.Dense(5, activation='relu', bias_regularizer=tf.keras.regularizers.l2(0.01)))\n",
    "\n",
    "#The output layer should produce three outputs using softmax\n",
    "sequential_model.add(layers.Dense(3, activation='softmax'))"
   ]
  },
  {
   "cell_type": "markdown",
   "metadata": {
    "_uuid": "c5850d7455401bd48929e7e171f9e036ddb675c2"
   },
   "source": [
    "Train the model using the RMSProp optimizer with a factor of 0.01, a loss function of Mean Squared Error and a metric of Mean Absolute Error, using the same randomly-generated data as in “Input NumPy Data” in “Build a Simple Model” but with 3 labels rather than 10.  Train for 10 epochs using a batch size of 32. Use a randomly-generated validation set similar to the example."
   ]
  },
  {
   "cell_type": "code",
   "execution_count": 3,
   "metadata": {
    "_uuid": "eda28ff93e358aaa6a4d657431dc6bd5e6ce438a"
   },
   "outputs": [],
   "source": [
    "# Configure a model for categorical classification.\n",
    "sequential_model.compile(optimizer=tf.train.RMSPropOptimizer(0.01),\n",
    "                         loss='mse',       # mean squared error\n",
    "                         metrics=['mae'])  # mean absolute error"
   ]
  },
  {
   "cell_type": "code",
   "execution_count": 4,
   "metadata": {
    "_uuid": "9f91e7b16eb3c060be7c4432dbbee67e396af170"
   },
   "outputs": [
    {
     "name": "stdout",
     "output_type": "stream",
     "text": [
      "Epoch 1/10\n",
      "30/30 [==============================] - 0s 10ms/step - loss: 0.1095 - mean_absolute_error: 0.2758 - val_loss: 0.1109 - val_mean_absolute_error: 0.2773\n",
      "Epoch 2/10\n",
      "30/30 [==============================] - 0s 1ms/step - loss: 0.1109 - mean_absolute_error: 0.2777 - val_loss: 0.1366 - val_mean_absolute_error: 0.3066\n",
      "Epoch 3/10\n",
      "30/30 [==============================] - 0s 1ms/step - loss: 0.1107 - mean_absolute_error: 0.2770 - val_loss: 0.1297 - val_mean_absolute_error: 0.2959\n",
      "Epoch 4/10\n",
      "30/30 [==============================] - 0s 1ms/step - loss: 0.1111 - mean_absolute_error: 0.2779 - val_loss: 0.1347 - val_mean_absolute_error: 0.3035\n",
      "Epoch 5/10\n",
      "30/30 [==============================] - 0s 1ms/step - loss: 0.1107 - mean_absolute_error: 0.2777 - val_loss: 0.1098 - val_mean_absolute_error: 0.2756\n",
      "Epoch 6/10\n",
      "30/30 [==============================] - 0s 1ms/step - loss: 0.1108 - mean_absolute_error: 0.2778 - val_loss: 0.1375 - val_mean_absolute_error: 0.3070\n",
      "Epoch 7/10\n",
      "30/30 [==============================] - 0s 1ms/step - loss: 0.1115 - mean_absolute_error: 0.2785 - val_loss: 0.1306 - val_mean_absolute_error: 0.2968\n",
      "Epoch 8/10\n",
      "30/30 [==============================] - 0s 1ms/step - loss: 0.1108 - mean_absolute_error: 0.2773 - val_loss: 0.1354 - val_mean_absolute_error: 0.3048\n",
      "Epoch 9/10\n",
      "30/30 [==============================] - 0s 1ms/step - loss: 0.1108 - mean_absolute_error: 0.2776 - val_loss: 0.1096 - val_mean_absolute_error: 0.2753\n",
      "Epoch 10/10\n",
      "30/30 [==============================] - 0s 1ms/step - loss: 0.1102 - mean_absolute_error: 0.2765 - val_loss: 0.1372 - val_mean_absolute_error: 0.3069\n"
     ]
    },
    {
     "data": {
      "text/plain": [
       "<tensorflow.python.keras.callbacks.History at 0x7fcff9e50710>"
      ]
     },
     "execution_count": 4,
     "metadata": {},
     "output_type": "execute_result"
    }
   ],
   "source": [
    "data = np.random.random((1000, 10))\n",
    "labels = np.random.random((1000, 3)) # 3 Labels rather than 10\n",
    "\n",
    "val_data = np.random.random((100, 10))\n",
    "val_labels = np.random.random((100, 3))\n",
    "\n",
    "#rain for 10 epochs using a batch size of 32. Use a randomly-generated validation set similar to the example.\n",
    "#sequential_model.fit(data, labels, epochs=10, batch_size=32)\n",
    "\n",
    "dataset = tf.data.Dataset.from_tensor_slices((data, labels))\n",
    "dataset = dataset.batch(32).repeat()\n",
    "\n",
    "val_dataset = tf.data.Dataset.from_tensor_slices((val_data, val_labels))\n",
    "val_dataset = val_dataset.batch(32).repeat()\n",
    "\n",
    "sequential_model.fit(dataset, epochs=10, steps_per_epoch=30,\n",
    "          validation_data=val_dataset,\n",
    "          validation_steps=3)"
   ]
  },
  {
   "cell_type": "markdown",
   "metadata": {
    "_uuid": "3a4801d255cb3308e3075e0ad951d800b72259ed"
   },
   "source": [
    "Evaluate your model using a randomly generated “data” and “labels” (again with 3 labels rather than 10) similar to how it is done in the “Evaluate and Predict” section of “Build a Simple Model”"
   ]
  },
  {
   "cell_type": "code",
   "execution_count": 5,
   "metadata": {
    "_uuid": "7c208d95637c6e26a2e08cbad9181de5682e6119"
   },
   "outputs": [
    {
     "name": "stdout",
     "output_type": "stream",
     "text": [
      "1000/1000 [==============================] - 0s 62us/step\n",
      "30/30 [==============================] - 0s 3ms/step\n"
     ]
    },
    {
     "data": {
      "text/plain": [
       "[0.10905969217419624, 0.27556969473759335]"
      ]
     },
     "execution_count": 5,
     "metadata": {},
     "output_type": "execute_result"
    }
   ],
   "source": [
    "data = np.random.random((1000, 10))\n",
    "labels = np.random.random((1000, 3))\n",
    "\n",
    "sequential_model.evaluate(data, labels, batch_size=32)\n",
    "\n",
    "sequential_model.evaluate(dataset, steps=30)"
   ]
  }
 ],
 "metadata": {
  "kernelspec": {
   "display_name": "Python 3",
   "language": "python",
   "name": "python3"
  },
  "language_info": {
   "codemirror_mode": {
    "name": "ipython",
    "version": 3
   },
   "file_extension": ".py",
   "mimetype": "text/x-python",
   "name": "python",
   "nbconvert_exporter": "python",
   "pygments_lexer": "ipython3",
   "version": "3.6.6"
  }
 },
 "nbformat": 4,
 "nbformat_minor": 1
}
